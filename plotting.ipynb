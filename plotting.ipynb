{
 "cells": [
  {
   "cell_type": "code",
   "execution_count": 1,
   "metadata": {},
   "outputs": [],
   "source": [
    "from mainn import *\n",
    "import numpy as np\n",
    "import matplotlib.pyplot as plt"
   ]
  },
  {
   "cell_type": "code",
   "execution_count": 2,
   "metadata": {},
   "outputs": [
    {
     "name": "stderr",
     "output_type": "stream",
     "text": [
      "/Users/ahmedchahlaoui/PRL CPHT/mainn.py:43: RuntimeWarning: divide by zero encountered in double_scalars\n",
      "  term3 = vnorms(r_vect)/(vnorms(r1_vect)*vnorms(r2_vect))\n"
     ]
    },
    {
     "name": "stdout",
     "output_type": "stream",
     "text": [
      "Unexpected exception formatting exception. Falling back to standard exception\n"
     ]
    },
    {
     "name": "stderr",
     "output_type": "stream",
     "text": [
      "Traceback (most recent call last):\n",
      "  File \"/Library/Frameworks/Python.framework/Versions/3.9/lib/python3.9/site-packages/IPython/core/interactiveshell.py\", line 3378, in run_code\n",
      "    exec(code_obj, self.user_global_ns, self.user_ns)\n",
      "  File \"/var/folders/ym/npbt7z_113z4z5vplytdskq40000gn/T/ipykernel_9245/2530127672.py\", line 9, in <module>\n",
      "    T, Y = solve_rcBK(N_mv_0, x0, xf, R)\n",
      "  File \"/Users/ahmedchahlaoui/PRL CPHT/mainn.py\", line 157, in solve_rcBK\n",
      "  File \"/Library/Frameworks/Python.framework/Versions/3.9/lib/python3.9/site-packages/scipy/integrate/_ivp/ivp.py\", line 555, in solve_ivp\n",
      "    solver = method(fun, t0, y0, tf, vectorized=vectorized, **options)\n",
      "  File \"/Library/Frameworks/Python.framework/Versions/3.9/lib/python3.9/site-packages/scipy/integrate/_ivp/rk.py\", line 94, in __init__\n",
      "    self.f = self.fun(self.t, self.y)\n",
      "  File \"/Library/Frameworks/Python.framework/Versions/3.9/lib/python3.9/site-packages/scipy/integrate/_ivp/base.py\", line 138, in fun\n",
      "    return self.fun_single(t, y)\n",
      "  File \"/Library/Frameworks/Python.framework/Versions/3.9/lib/python3.9/site-packages/scipy/integrate/_ivp/base.py\", line 20, in fun_wrapped\n",
      "    return np.asarray(fun(t, y), dtype=dtype)\n",
      "  File \"/Users/ahmedchahlaoui/PRL CPHT/mainn.py\", line 156, in <lambda>\n",
      "    return 1\n",
      "  File \"/Users/ahmedchahlaoui/PRL CPHT/mainn.py\", line 138, in _f_\n",
      "    K = K_matrix(R)\n",
      "  File \"/Users/ahmedchahlaoui/PRL CPHT/mainn.py\", line 128, in K_matrix\n",
      "    K[i, j] = K_run(R[i], R[j], oneterm)\n",
      "  File \"/Users/ahmedchahlaoui/PRL CPHT/mainn.py\", line 43, in K_run\n",
      "    term3 = vnorms(r_vect)/(vnorms(r1_vect)*vnorms(r2_vect))\n",
      "  File \"/Users/ahmedchahlaoui/PRL CPHT/mainn.py\", line 27, in vnorms\n",
      "    return np.sum(v**2)\n",
      "KeyboardInterrupt\n",
      "\n",
      "During handling of the above exception, another exception occurred:\n",
      "\n",
      "Traceback (most recent call last):\n",
      "  File \"/Library/Frameworks/Python.framework/Versions/3.9/lib/python3.9/site-packages/IPython/core/interactiveshell.py\", line 1997, in showtraceback\n",
      "    stb = self.InteractiveTB.structured_traceback(\n",
      "  File \"/Library/Frameworks/Python.framework/Versions/3.9/lib/python3.9/site-packages/IPython/core/ultratb.py\", line 1112, in structured_traceback\n",
      "    return FormattedTB.structured_traceback(\n",
      "  File \"/Library/Frameworks/Python.framework/Versions/3.9/lib/python3.9/site-packages/IPython/core/ultratb.py\", line 1006, in structured_traceback\n",
      "    return VerboseTB.structured_traceback(\n",
      "  File \"/Library/Frameworks/Python.framework/Versions/3.9/lib/python3.9/site-packages/IPython/core/ultratb.py\", line 859, in structured_traceback\n",
      "    formatted_exception = self.format_exception_as_a_whole(etype, evalue, etb, number_of_lines_of_context,\n",
      "  File \"/Library/Frameworks/Python.framework/Versions/3.9/lib/python3.9/site-packages/IPython/core/ultratb.py\", line 812, in format_exception_as_a_whole\n",
      "    frames.append(self.format_record(r))\n",
      "  File \"/Library/Frameworks/Python.framework/Versions/3.9/lib/python3.9/site-packages/IPython/core/ultratb.py\", line 730, in format_record\n",
      "    result += ''.join(_format_traceback_lines(frame_info.lines, Colors, self.has_colors, lvals))\n",
      "  File \"/Library/Frameworks/Python.framework/Versions/3.9/lib/python3.9/site-packages/stack_data/utils.py\", line 145, in cached_property_wrapper\n",
      "    value = obj.__dict__[self.func.__name__] = self.func(obj)\n",
      "  File \"/Library/Frameworks/Python.framework/Versions/3.9/lib/python3.9/site-packages/stack_data/core.py\", line 734, in lines\n",
      "    pieces = self.included_pieces\n",
      "  File \"/Library/Frameworks/Python.framework/Versions/3.9/lib/python3.9/site-packages/stack_data/utils.py\", line 145, in cached_property_wrapper\n",
      "    value = obj.__dict__[self.func.__name__] = self.func(obj)\n",
      "  File \"/Library/Frameworks/Python.framework/Versions/3.9/lib/python3.9/site-packages/stack_data/core.py\", line 681, in included_pieces\n",
      "    pos = scope_pieces.index(self.executing_piece)\n",
      "  File \"/Library/Frameworks/Python.framework/Versions/3.9/lib/python3.9/site-packages/stack_data/utils.py\", line 145, in cached_property_wrapper\n",
      "    value = obj.__dict__[self.func.__name__] = self.func(obj)\n",
      "  File \"/Library/Frameworks/Python.framework/Versions/3.9/lib/python3.9/site-packages/stack_data/core.py\", line 660, in executing_piece\n",
      "    return only(\n",
      "  File \"/Library/Frameworks/Python.framework/Versions/3.9/lib/python3.9/site-packages/executing/executing.py\", line 167, in only\n",
      "    raise NotOneValueFound('Expected one value, found 0')\n",
      "executing.executing.NotOneValueFound: Expected one value, found 0\n"
     ]
    }
   ],
   "source": [
    "#Define Lattice\n",
    "R = lattice(Q_s_p)\n",
    "\n",
    "#Define Bjorken x\n",
    "x0 = 0.01\n",
    "yf = 1\n",
    "xf = 0.01/np.exp(yf)\n",
    "\n",
    "T, Y = solve_rcBK(N_mv_0, x0, xf, R)\n"
   ]
  },
  {
   "cell_type": "code",
   "execution_count": 8,
   "metadata": {},
   "outputs": [
    {
     "ename": "KeyboardInterrupt",
     "evalue": "",
     "output_type": "error",
     "traceback": [
      "\u001b[0;31m---------------------------------------------------------------------------\u001b[0m",
      "\u001b[0;31mKeyboardInterrupt\u001b[0m                         Traceback (most recent call last)",
      "Cell \u001b[0;32mIn [8], line 23\u001b[0m\n\u001b[1;32m     21\u001b[0m \u001b[38;5;28;01mfor\u001b[39;00m i \u001b[38;5;129;01min\u001b[39;00m \u001b[38;5;28mrange\u001b[39m(\u001b[38;5;28mlen\u001b[39m(xaxis)):\n\u001b[1;32m     22\u001b[0m     \u001b[38;5;28;01mfor\u001b[39;00m j \u001b[38;5;129;01min\u001b[39;00m \u001b[38;5;28mrange\u001b[39m(\u001b[38;5;28mlen\u001b[39m(yaxis)):\n\u001b[0;32m---> 23\u001b[0m         f_values[i, j] \u001b[38;5;241m=\u001b[39m f(xaxis[i], yaxis[j])\n\u001b[1;32m     25\u001b[0m \u001b[38;5;66;03m# Compute the 2D Fourier transform\u001b[39;00m\n\u001b[1;32m     26\u001b[0m F_values \u001b[38;5;241m=\u001b[39m np\u001b[38;5;241m.\u001b[39mfft\u001b[38;5;241m.\u001b[39mfft2(f_values)\n",
      "Cell \u001b[0;32mIn [8], line 7\u001b[0m, in \u001b[0;36mf\u001b[0;34m(x, y)\u001b[0m\n\u001b[1;32m      6\u001b[0m \u001b[38;5;28;01mdef\u001b[39;00m \u001b[38;5;21mf\u001b[39m(x, y):\n\u001b[0;32m----> 7\u001b[0m     x_vect_MC, N_sol_vect_MC \u001b[38;5;241m=\u001b[39m \u001b[43msolve_rcBK_MC\u001b[49m\u001b[43m(\u001b[49m\u001b[43mN_0\u001b[49m\u001b[43m,\u001b[49m\u001b[43m \u001b[49m\u001b[43mdy\u001b[49m\u001b[43m,\u001b[49m\u001b[43m \u001b[49m\u001b[43mr0\u001b[49m\u001b[43m,\u001b[49m\u001b[43m \u001b[49m\u001b[43mx0\u001b[49m\u001b[43m \u001b[49m\u001b[43m,\u001b[49m\u001b[43mxf\u001b[49m\u001b[43m,\u001b[49m\u001b[43m \u001b[49m\u001b[43mnp\u001b[49m\u001b[38;5;241;43m.\u001b[39;49m\u001b[43marray\u001b[49m\u001b[43m(\u001b[49m\u001b[43m[\u001b[49m\u001b[43mx\u001b[49m\u001b[43m,\u001b[49m\u001b[43my\u001b[49m\u001b[43m]\u001b[49m\u001b[43m)\u001b[49m\u001b[43m,\u001b[49m\u001b[43m \u001b[49m\u001b[38;5;241;43m1000\u001b[39;49m\u001b[43m)\u001b[49m\n\u001b[1;32m      8\u001b[0m     \u001b[38;5;28;01mreturn\u001b[39;00m N_sol_vect_MC[\u001b[38;5;241m0\u001b[39m]\n",
      "File \u001b[0;32m~/PRL CPHT/mainn.py:103\u001b[0m, in \u001b[0;36msolve_rcBK_MC\u001b[0;34m(N_0, dy, r0, x0, xf, r_vect, n_samples)\u001b[0m\n\u001b[1;32m    101\u001b[0m y \u001b[38;5;241m=\u001b[39m np\u001b[38;5;241m.\u001b[39mlog(x0\u001b[38;5;241m/\u001b[39mx)\n\u001b[1;32m    102\u001b[0m \u001b[38;5;28;01mwhile\u001b[39;00m y \u001b[38;5;241m<\u001b[39m yf:\n\u001b[0;32m--> 103\u001b[0m     inter_result \u001b[38;5;241m=\u001b[39m \u001b[43mMonte_Carlo\u001b[49m\u001b[43m(\u001b[49m\u001b[43mN_sol\u001b[49m\u001b[43m,\u001b[49m\u001b[43m \u001b[49m\u001b[43mr0\u001b[49m\u001b[43m,\u001b[49m\u001b[43m \u001b[49m\u001b[43mr_vect\u001b[49m\u001b[43m,\u001b[49m\u001b[43m \u001b[49m\u001b[43mx\u001b[49m\u001b[43m,\u001b[49m\u001b[43m \u001b[49m\u001b[43mn_samples\u001b[49m\u001b[43m)\u001b[49m\n\u001b[1;32m    104\u001b[0m     N_sol_prime \u001b[38;5;241m=\u001b[39m N_sol_vect[\u001b[38;5;241m0\u001b[39m] \u001b[38;5;241m+\u001b[39m dy\u001b[38;5;241m*\u001b[39minter_result\n\u001b[1;32m    105\u001b[0m     N_sol_vect\u001b[38;5;241m.\u001b[39minsert(\u001b[38;5;241m0\u001b[39m, N_sol_prime)\n",
      "File \u001b[0;32m~/PRL CPHT/mainn.py:81\u001b[0m, in \u001b[0;36mMonte_Carlo\u001b[0;34m(N_sol, r0, r_vect, x, n_samples)\u001b[0m\n\u001b[1;32m     79\u001b[0m     r1_vect \u001b[38;5;241m=\u001b[39m np\u001b[38;5;241m.\u001b[39marray([np\u001b[38;5;241m.\u001b[39msqrt(rho)\u001b[38;5;241m*\u001b[39mnp\u001b[38;5;241m.\u001b[39mcos(theta), np\u001b[38;5;241m.\u001b[39msqrt(rho)\u001b[38;5;241m*\u001b[39mnp\u001b[38;5;241m.\u001b[39msin(theta)])\n\u001b[1;32m     80\u001b[0m     r2_vect \u001b[38;5;241m=\u001b[39m r_vect\u001b[38;5;241m-\u001b[39mr1_vect\n\u001b[0;32m---> 81\u001b[0m     I \u001b[38;5;241m=\u001b[39m \u001b[43mintegrand\u001b[49m\u001b[43m(\u001b[49m\u001b[43mN_sol\u001b[49m\u001b[43m,\u001b[49m\u001b[43m \u001b[49m\u001b[43mr_vect\u001b[49m\u001b[43m,\u001b[49m\u001b[43m \u001b[49m\u001b[43mr1_vect\u001b[49m\u001b[43m,\u001b[49m\u001b[43m \u001b[49m\u001b[43mx\u001b[49m\u001b[43m)\u001b[49m\n\u001b[1;32m     82\u001b[0m     results\u001b[38;5;241m.\u001b[39mappend(I\u001b[38;5;241m*\u001b[39mnp\u001b[38;5;241m.\u001b[39mpi\u001b[38;5;241m*\u001b[39mr0\u001b[38;5;241m*\u001b[39m\u001b[38;5;241m*\u001b[39m\u001b[38;5;241m2\u001b[39m)\n\u001b[1;32m     83\u001b[0m \u001b[38;5;28;01mreturn\u001b[39;00m np\u001b[38;5;241m.\u001b[39msum(results)\u001b[38;5;241m/\u001b[39mn_samples\n",
      "File \u001b[0;32m~/PRL CPHT/mainn.py:62\u001b[0m, in \u001b[0;36mintegrand\u001b[0;34m(N_sol, r_vect, r1_vect, x)\u001b[0m\n\u001b[1;32m     60\u001b[0m \u001b[38;5;124;03m\"\"\"Integrand of the IDE\"\"\"\u001b[39;00m\n\u001b[1;32m     61\u001b[0m r \u001b[38;5;241m=\u001b[39m np\u001b[38;5;241m.\u001b[39mlinalg\u001b[38;5;241m.\u001b[39mnorm(r_vect)\n\u001b[0;32m---> 62\u001b[0m r1 \u001b[38;5;241m=\u001b[39m \u001b[43mnp\u001b[49m\u001b[38;5;241;43m.\u001b[39;49m\u001b[43mlinalg\u001b[49m\u001b[38;5;241;43m.\u001b[39;49m\u001b[43mnorm\u001b[49m\u001b[43m(\u001b[49m\u001b[43mr1_vect\u001b[49m\u001b[43m)\u001b[49m\n\u001b[1;32m     63\u001b[0m r2 \u001b[38;5;241m=\u001b[39m np\u001b[38;5;241m.\u001b[39mlinalg\u001b[38;5;241m.\u001b[39mnorm(r_vect\u001b[38;5;241m-\u001b[39mr1_vect)\n\u001b[1;32m     64\u001b[0m K \u001b[38;5;241m=\u001b[39m K_run(r_vect, r1_vect)\n",
      "File \u001b[0;32m<__array_function__ internals>:180\u001b[0m, in \u001b[0;36mnorm\u001b[0;34m(*args, **kwargs)\u001b[0m\n",
      "File \u001b[0;32m/Library/Frameworks/Python.framework/Versions/3.9/lib/python3.9/site-packages/numpy/linalg/linalg.py:2526\u001b[0m, in \u001b[0;36mnorm\u001b[0;34m(x, ord, axis, keepdims)\u001b[0m\n\u001b[1;32m   2524\u001b[0m     sqnorm \u001b[38;5;241m=\u001b[39m x_real\u001b[38;5;241m.\u001b[39mdot(x_real) \u001b[38;5;241m+\u001b[39m x_imag\u001b[38;5;241m.\u001b[39mdot(x_imag)\n\u001b[1;32m   2525\u001b[0m \u001b[38;5;28;01melse\u001b[39;00m:\n\u001b[0;32m-> 2526\u001b[0m     sqnorm \u001b[38;5;241m=\u001b[39m \u001b[43mx\u001b[49m\u001b[38;5;241;43m.\u001b[39;49m\u001b[43mdot\u001b[49m\u001b[43m(\u001b[49m\u001b[43mx\u001b[49m\u001b[43m)\u001b[49m\n\u001b[1;32m   2527\u001b[0m ret \u001b[38;5;241m=\u001b[39m sqrt(sqnorm)\n\u001b[1;32m   2528\u001b[0m \u001b[38;5;28;01mif\u001b[39;00m keepdims:\n",
      "\u001b[0;31mKeyboardInterrupt\u001b[0m: "
     ]
    }
   ],
   "source": [
    "import numpy as np\n",
    "import matplotlib.pyplot as plt\n",
    "\n",
    "# Define the 2D function\n",
    "xf = x0/np.exp(2)\n",
    "def f(x, y):\n",
    "    x_vect_MC, N_sol_vect_MC = solve_rcBK_MC(N_0, dy, r0, x0 ,xf, np.array([x,y]), 1000)\n",
    "    return N_sol_vect_MC[0]\n",
    "\n",
    "\n",
    "\n",
    "# Define the range and step size for x and y\n",
    "xaxis = np.linspace(-5, 5, 500)\n",
    "yaxis = np.linspace(-5, 5, 500)\n",
    "\n",
    "# Create a 2D grid\n",
    "X, Y = np.meshgrid(xaxis, yaxis)\n",
    "\n",
    "# Evaluate the 2D function\n",
    "f_values = np.zeros((len(xaxis), len(yaxis)))\n",
    "for i in range(len(xaxis)):\n",
    "    for j in range(len(yaxis)):\n",
    "        f_values[i, j] = f(xaxis[i], yaxis[j])\n",
    "\n",
    "# Compute the 2D Fourier transform\n",
    "F_values = np.fft.fft2(f_values)\n",
    "\n",
    "# Shift the zero frequency component to the center\n",
    "F_values_shifted = np.fft.fftshift(F_values)\n",
    "\n",
    "# Compute the frequency values for x and y\n",
    "freq_x = np.fft.fftfreq(len(xaxis), xaxis[1] - xaxis[0])\n",
    "freq_y = np.fft.fftfreq(len(yaxis), yaxis[1] - yaxis[0])\n",
    "\n",
    "# Create a 2D grid for frequency values\n",
    "freq_X, freq_Y = np.meshgrid(freq_x, freq_y)\n",
    "\n",
    "# Plot the original function and its Fourier transform\n",
    "plt.figure(figsize=(12, 6))\n",
    "\n",
    "plt.subplot(121)\n",
    "plt.imshow(f_values, extent=(xaxis.min(), xaxis.max(), yaxis.min(), yaxis.max()), cmap='viridis')\n",
    "plt.title('Original Function')\n",
    "plt.colorbar()\n",
    "\n",
    "plt.subplot(122)\n",
    "plt.imshow(np.abs(F_values_shifted), extent=(freq_x.min(), freq_x.max(), freq_y.min(), freq_y.max()), cmap='viridis')\n",
    "plt.title('Fourier Transform')\n",
    "plt.colorbar()\n",
    "\n",
    "plt.show()\n"
   ]
  }
 ],
 "metadata": {
  "kernelspec": {
   "display_name": "Python 3",
   "language": "python",
   "name": "python3"
  },
  "language_info": {
   "codemirror_mode": {
    "name": "ipython",
    "version": 3
   },
   "file_extension": ".py",
   "mimetype": "text/x-python",
   "name": "python",
   "nbconvert_exporter": "python",
   "pygments_lexer": "ipython3",
   "version": "3.9.13"
  }
 },
 "nbformat": 4,
 "nbformat_minor": 2
}
